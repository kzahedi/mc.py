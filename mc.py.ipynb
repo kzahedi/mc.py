{
 "metadata": {
  "name": ""
 },
 "nbformat": 3,
 "nbformat_minor": 0,
 "worksheets": [
  {
   "cells": [
    {
     "cell_type": "code",
     "collapsed": false,
     "input": [
      "import numpy\n",
      "import btk\n",
      "import os\n",
      "import math\n",
      "import re"
     ],
     "language": "python",
     "metadata": {},
     "outputs": [],
     "prompt_number": 1
    },
    {
     "cell_type": "code",
     "collapsed": false,
     "input": [
      "parent   = \"/home/somebody/projects/20141104-rbohand2/\"\n",
      "filename = parent + \"grasp6_1-RBOHand2_2.trb\""
     ],
     "language": "python",
     "metadata": {},
     "outputs": [],
     "prompt_number": 1
    },
    {
     "cell_type": "code",
     "collapsed": false,
     "input": [
      "def get_positions(filename):\n",
      "    reader = btk.btkAcquisitionFileReader() # build a btk reader object\n",
      "    reader.SetFilename(filename) # set a filename to the reader\n",
      "    reader.Update()\n",
      "    acq = reader.GetOutput()\n",
      "    \n",
      "    frame_max =  acq.GetPointFrameNumber() #get the number of frames\n",
      "\n",
      "    all_points = []\n",
      "    for j in range(0, frame_max):\n",
      "      points = {}\n",
      "      for i in range(acq.GetPointNumber()):\n",
      "        point = acq.GetPoint(i)\n",
      "        label = point.GetLabel()\n",
      "        values = point.GetValues() #returns a numpy array of the data, row=frame, col=coordinates\n",
      "        points[label] = values[j][:]\n",
      "        all_points.append(points)\n",
      "\n",
      "    return all_points"
     ],
     "language": "python",
     "metadata": {},
     "outputs": [],
     "prompt_number": 2
    },
    {
     "cell_type": "code",
     "collapsed": false,
     "input": [
      "data = get_positions(filename)"
     ],
     "language": "python",
     "metadata": {},
     "outputs": [],
     "prompt_number": 4
    },
    {
     "cell_type": "code",
     "collapsed": false,
     "input": [
      "def get_domain_for_each_marker(data):\n",
      "  domains = {}\n",
      "  for key in data[0].keys():\n",
      "    min_values = [data[0][key][i] for i in range(0,3)]\n",
      "    max_values = [data[0][key][i] for i in range(0,3)]\n",
      "    for j in range(1, len(data)):\n",
      "      values = data[j][key]\n",
      "      for i in range(0,3):\n",
      "        if values[i] < min_values[i]:\n",
      "          min_values[i] = values[i]\n",
      "        if values[i] > max_values[i]:\n",
      "          max_values[i] = values[i]\n",
      "    domains[key] = [min_values, max_values]\n",
      "  return domains"
     ],
     "language": "python",
     "metadata": {},
     "outputs": [],
     "prompt_number": 5
    },
    {
     "cell_type": "code",
     "collapsed": false,
     "input": [
      "domains = get_domain_for_each_marker(data)"
     ],
     "language": "python",
     "metadata": {},
     "outputs": [],
     "prompt_number": 6
    },
    {
     "cell_type": "code",
     "collapsed": false,
     "input": [
      "def walk(_dir, pattern, method):\n",
      "    _dir = os.path.abspath(_dir)\n",
      "    for _file in [_file for _file in os.listdir(_dir) if not _file in [\".\", \"..\", \".svn\", \".git\"]]:\n",
      "        nfile = os.path.join(_dir, _file)\n",
      "        if pattern.search(nfile):\n",
      "            method(nfile)\n",
      "        if os.path.isdir(nfile):\n",
      "            walk(nfile, pattern, method)\n",
      "                 \n",
      "\n",
      "def get_domains_for_all_files(directory):\n",
      "    pattern = re.compile(r\".*RBOHand.*.trb$\")\n",
      "    files = []\n",
      "    walk(directory, pattern, files.append)\n",
      "    domains = [get_domain_for_each_marker(get_positions(filename)) for filename in files]\n",
      "    global_domains = {}\n",
      "    keys = domains[0].keys()\n",
      "    for key in keys:\n",
      "        domain = []\n",
      "        for d in domains:\n",
      "            minimum = d[key][0]\n",
      "            maximum = d[key][1]\n",
      "            if domain == []:\n",
      "                domain = [ [minimum[0], minimum[1], minimum[2]], [maximum[0], maximum[1], maximum[2]]]\n",
      "\n",
      "            d_min = [ domain[0][i] if minimum[i] > domain[0][i] else minimum[i] for i in range(0,3)]\n",
      "            d_max = [ domain[1][i] if maximum[i] < domain[1][i] else maximum[i] for i in range(0,3)]\n",
      "        global_domains[key] = [d_min, d_max]\n",
      "            \n",
      "            \n",
      "    return global_domains\n"
     ],
     "language": "python",
     "metadata": {},
     "outputs": [],
     "prompt_number": 25
    },
    {
     "cell_type": "code",
     "collapsed": false,
     "input": [
      "domains = get_domains_for_all_files(parent)"
     ],
     "language": "python",
     "metadata": {},
     "outputs": [],
     "prompt_number": 30
    },
    {
     "cell_type": "code",
     "collapsed": false,
     "input": [
      "def scale_data_for_each_marker(data, domains):\n",
      "  scaled_data = {}\n",
      "  for key in domains.keys():\n",
      "    new_data = []\n",
      "    min_values = domains[key][0]\n",
      "    max_values = domains[key][1]\n",
      "    for j in range(0, len(data)):\n",
      "      values = data[j][key]\n",
      "      # if values[0] != nan:\n",
      "      if max([abs((max_values[i] - min_values[i])) for i in range(0,3)]) > 0.00001:\n",
      "        values = [(values[i] - min_values[i]) / (max_values[i] - min_values[i])\n",
      "              for i in range(0,3)]\n",
      "      new_data.append(values)\n",
      "    scaled_data[key] = new_data\n",
      "  return scaled_data\n"
     ],
     "language": "python",
     "metadata": {},
     "outputs": [],
     "prompt_number": 28
    },
    {
     "cell_type": "code",
     "collapsed": false,
     "input": [
      "scaled_data = scale_data_for_each_marker(data, domains)"
     ],
     "language": "python",
     "metadata": {},
     "outputs": [],
     "prompt_number": 31
    },
    {
     "cell_type": "code",
     "collapsed": false,
     "input": [
      "def bin_value(v, bins):\n",
      "  return min(int(v * bins), bins-1)\n",
      "\n",
      "def bin_vector(v, bins):\n",
      "  return [min(int(v[i] * bins), bins-1) for i in range(0,3)]\n",
      "\n",
      "def bin_scaled_data_for_each_marker(data, bins):\n",
      "  new_data = {}\n",
      "  for key in data.keys():\n",
      "    new_data[key] = [bin_vector(v, bins) for v in data[key]]\n",
      "  return new_data"
     ],
     "language": "python",
     "metadata": {},
     "outputs": [],
     "prompt_number": 32
    },
    {
     "cell_type": "code",
     "collapsed": false,
     "input": [
      "binned_data = bin_scaled_data_for_each_marker(scaled_data, 10)"
     ],
     "language": "python",
     "metadata": {},
     "outputs": [],
     "prompt_number": 33
    },
    {
     "cell_type": "code",
     "collapsed": false,
     "input": [
      "def combine_bin_vector(v, bins):\n",
      "  return sum([v[i] * pow(bins,i) for i in range(0, len(v))])\n",
      "\n",
      "def unique_valued_list(lst):\n",
      "  myset = set(lst)\n",
      "  return list(myset)\n",
      "\n",
      "def relabel_vector(lst):\n",
      "  mylst = unique_valued_list(lst)\n",
      "  return [mylst.index(v) for v in lst]\n",
      "\n",
      "def combine_bins_for_each_marker(data, bins):\n",
      "  new_data = {}\n",
      "  for key in data.keys():\n",
      "    new_data[key] = relabel_vector([combine_bin_vector(v, bins) for v in data[key]])\n",
      "  return new_data\n",
      "\n",
      "def combine_random_variables(lst, bins):\n",
      "    "
     ],
     "language": "python",
     "metadata": {},
     "outputs": [],
     "prompt_number": 34
    },
    {
     "cell_type": "code",
     "collapsed": false,
     "input": [
      "# creating unary data for 3D motion capturing data\n",
      "combined_binned_data = combine_bins_for_each_marker(binned_data, 10)"
     ],
     "language": "python",
     "metadata": {},
     "outputs": [],
     "prompt_number": 35
    },
    {
     "cell_type": "code",
     "collapsed": false,
     "input": [
      "print max(combined_binned_data[\"2 PIP\"]),\n",
      "print max(combined_binned_data[\"2 DIP\"]),\n",
      "print max(combined_binned_data[\"3 MCP\"])"
     ],
     "language": "python",
     "metadata": {},
     "outputs": [
      {
       "output_type": "stream",
       "stream": "stdout",
       "text": [
        "46 37 2\n"
       ]
      }
     ],
     "prompt_number": 41
    },
    {
     "cell_type": "code",
     "collapsed": false,
     "input": [
      "def emperical_joint_distribution(w_prime, w, a):\n",
      "  p = numpy.zeros((max(w_prime)+1, max(w)+1, max(a)+1))\n",
      "\n",
      "  L = len(w_prime)\n",
      "  for index in range(0, L):\n",
      "    p[w_prime[index], w[index], a[index]] = p[w_prime[index], w[index], a[index]] + 1.0\n",
      "\n",
      "  for i in range(0, p.shape[0]):\n",
      "    for j in range(0, p.shape[1]):\n",
      "      for k in range(0, p.shape[2]):\n",
      "        p[i,j,k] = p[i,j,k] / float(L)\n",
      "\n",
      "  s = sum(sum(sum(p)))\n",
      "  p = p / s\n",
      "  return p"
     ],
     "language": "python",
     "metadata": {},
     "outputs": [],
     "prompt_number": 37
    },
    {
     "cell_type": "code",
     "collapsed": false,
     "input": [
      "jd = emperical_joint_distribution(combined_binned_data[\"2 PIP\"],\n",
      "                                  combined_binned_data[\"2 DIP\"],\n",
      "                                  combined_binned_data[\"3 MCP\"])"
     ],
     "language": "python",
     "metadata": {},
     "outputs": [],
     "prompt_number": 38
    },
    {
     "cell_type": "code",
     "collapsed": false,
     "input": [
      "def calc_p_w_prime_given_w(joint_distribution):\n",
      "    p_w_prime_w = joint_distribution.sum(axis=2)\n",
      "    p_w         = joint_distribution.sum(axis=(0,2))\n",
      "    for w_prime in range(0,joint_distribution.shape[0]):\n",
      "        for w in range(0, joint_distribution.shape[1]):\n",
      "            p_w_prime_w[w_prime, w] = p_w_prime_w[w_prime, w] / p_w[w]\n",
      "    return p_w_prime_w\n",
      "\n",
      "def calc_p_w_prime_given_a(joint_distribution):\n",
      "    p_w_prime_a = joint_distribution.sum(axis=1)\n",
      "    p_a         = joint_distribution.sum(axis=(0,1))\n",
      "    for w_prime in range(0,joint_distribution.shape[0]):\n",
      "        for a in range(0, joint_distribution.shape[2]):\n",
      "            if p_w_prime_a[w_prime, a] != 0.0 and p_a[a] != 0.0:\n",
      "                p_w_prime_a[w_prime, a] = p_w_prime_a[w_prime, a] / p_a[a]\n",
      "    return p_w_prime_a\n",
      "\n",
      "def calc_p_w_prime_given_w_a(joint_distribution):\n",
      "    p_w_a               = joint_distribution.sum(axis=0)\n",
      "    p_w_prime_given_w_a = numpy.zeros(joint_distribution.shape)\n",
      "    for w_prime in range(0, joint_distribution.shape[0]):\n",
      "        for w in range(0, joint_distribution.shape[1]):\n",
      "            for a in range(0, joint_distribution.shape[2]):\n",
      "                if joint_distribution[w_prime, w, a] != 0.0 and p_w_a[w,a] != 0.0:\n",
      "                    p_w_prime_given_w_a[w_prime, w, a] = joint_distribution[w_prime, w, a] / p_w_a[w,a]\n",
      "    return p_w_prime_given_w_a\n",
      "\n",
      "def calculate_concept_one(joint_distribution):\n",
      "    p_w_prime_given_w   = calc_p_w_prime_given_w(joint_distribution)\n",
      "    p_w_prime_given_w_a = calc_p_w_prime_given_w_a(joint_distribution)\n",
      "    r = 0\n",
      "    for w_prime in range(0, joint_distribution.shape[0]):\n",
      "        for w in range(0, joint_distribution.shape[1]):\n",
      "            for a in range(0, joint_distribution.shape[2]):\n",
      "                if joint_distribution[w_prime, w, a] != 0.0 and p_w_prime_given_w[w_prime, w] != 0.0 and p_w_prime_given_w_a[w_prime, w, a] != 0.0:\n",
      "                    r = joint_distribution[w_prime, w, a] * (math.log(p_w_prime_given_w_a[w_prime, w, a], 2) - math.log(p_w_prime_given_w[w_prime, w], 2))\n",
      "    return r\n",
      "\n",
      "def calculate_concept_two(joint_distribution):\n",
      "    p_w_prime_given_a   = calc_p_w_prime_given_a(joint_distribution)\n",
      "    p_w_prime_given_w_a = calc_p_w_prime_given_w_a(joint_distribution)\n",
      "    r = 0\n",
      "    for w_prime in range(0, joint_distribution.shape[0]):\n",
      "        for w in range(0, joint_distribution.shape[1]):\n",
      "            for a in range(0, joint_distribution.shape[2]):\n",
      "                if joint_distribution[w_prime, w, a] != 0.0 and p_w_prime_given_a[w_prime, a] != 0.0 and p_w_prime_given_w_a[w_prime, w, a] != 0.0:\n",
      "                    r = joint_distribution[w_prime, w, a] * (math.log(p_w_prime_given_w_a[w_prime, w, a], 2) - math.log(p_w_prime_given_a[w_prime, a], 2))\n",
      "    return r"
     ],
     "language": "python",
     "metadata": {},
     "outputs": [],
     "prompt_number": 39
    },
    {
     "cell_type": "code",
     "collapsed": false,
     "input": [
      "print calculate_concept_one(jd)\n",
      "print calculate_concept_two(jd)"
     ],
     "language": "python",
     "metadata": {},
     "outputs": [
      {
       "output_type": "stream",
       "stream": "stdout",
       "text": [
        "0.0\n",
        "0.0377068913866\n"
       ]
      }
     ],
     "prompt_number": 40
    },
    {
     "cell_type": "code",
     "collapsed": false,
     "input": [],
     "language": "python",
     "metadata": {},
     "outputs": [],
     "prompt_number": 40
    }
   ],
   "metadata": {}
  }
 ]
}