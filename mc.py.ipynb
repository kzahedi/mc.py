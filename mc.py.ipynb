{
 "cells": [
  {
   "cell_type": "code",
   "execution_count": 1,
   "metadata": {
    "collapsed": false
   },
   "outputs": [
    {
     "ename": "LoadError",
     "evalue": "numpy not found\nwhile loading In[1], in expression starting on line 1",
     "output_type": "error",
     "traceback": [
      "numpy not found\nwhile loading In[1], in expression starting on line 1",
      "",
      " in require at loading.jl:47"
     ]
    }
   ],
   "source": [
    "import numpy\n",
    "import btk\n",
    "import os\n",
    "import math\n",
    "import re\n",
    "from random import random"
   ]
  },
  {
   "cell_type": "code",
   "execution_count": 2,
   "metadata": {
    "collapsed": false
   },
   "outputs": [],
   "source": [
    "parent   = \"/home/somebody/projects/20141104-rbohand2/\"\n",
    "filename = parent + \"grasp6_1-RBOHand2_2.trb\""
   ]
  },
  {
   "cell_type": "code",
   "execution_count": 3,
   "metadata": {
    "collapsed": false
   },
   "outputs": [],
   "source": [
    "def get_positions(filename):\n",
    "    reader = btk.btkAcquisitionFileReader() # build a btk reader object\n",
    "    reader.SetFilename(filename) # set a filename to the reader\n",
    "    reader.Update()\n",
    "    acq = reader.GetOutput()\n",
    "    \n",
    "    frame_max =  acq.GetPointFrameNumber() #get the number of frames\n",
    "\n",
    "    all_points = []\n",
    "    for j in range(0, frame_max):\n",
    "      points = {}\n",
    "      for i in range(acq.GetPointNumber()):\n",
    "        point = acq.GetPoint(i)\n",
    "        label = point.GetLabel()\n",
    "        values = point.GetValues() #returns a numpy array of the data, row=frame, col=coordinates\n",
    "        points[label] = values[j][:]\n",
    "        all_points.append(points)\n",
    "\n",
    "    return all_points"
   ]
  },
  {
   "cell_type": "code",
   "execution_count": 4,
   "metadata": {
    "collapsed": false
   },
   "outputs": [
    {
     "ename": "NameError",
     "evalue": "global name 'btk' is not defined",
     "output_type": "error",
     "traceback": [
      "\u001b[0;31m---------------------------------------------------------------------------\u001b[0m",
      "\u001b[0;31mNameError\u001b[0m                                 Traceback (most recent call last)",
      "\u001b[0;32m<ipython-input-4-8fd90df0554d>\u001b[0m in \u001b[0;36m<module>\u001b[0;34m()\u001b[0m\n\u001b[0;32m----> 1\u001b[0;31m \u001b[0mdata\u001b[0m \u001b[0;34m=\u001b[0m \u001b[0mget_positions\u001b[0m\u001b[0;34m(\u001b[0m\u001b[0mfilename\u001b[0m\u001b[0;34m)\u001b[0m\u001b[0;34m\u001b[0m\u001b[0m\n\u001b[0m",
      "\u001b[0;32m<ipython-input-3-0134c79ea43d>\u001b[0m in \u001b[0;36mget_positions\u001b[0;34m(filename)\u001b[0m\n\u001b[1;32m      1\u001b[0m \u001b[0;32mdef\u001b[0m \u001b[0mget_positions\u001b[0m\u001b[0;34m(\u001b[0m\u001b[0mfilename\u001b[0m\u001b[0;34m)\u001b[0m\u001b[0;34m:\u001b[0m\u001b[0;34m\u001b[0m\u001b[0m\n\u001b[0;32m----> 2\u001b[0;31m     \u001b[0mreader\u001b[0m \u001b[0;34m=\u001b[0m \u001b[0mbtk\u001b[0m\u001b[0;34m.\u001b[0m\u001b[0mbtkAcquisitionFileReader\u001b[0m\u001b[0;34m(\u001b[0m\u001b[0;34m)\u001b[0m \u001b[0;31m# build a btk reader object\u001b[0m\u001b[0;34m\u001b[0m\u001b[0m\n\u001b[0m\u001b[1;32m      3\u001b[0m     \u001b[0mreader\u001b[0m\u001b[0;34m.\u001b[0m\u001b[0mSetFilename\u001b[0m\u001b[0;34m(\u001b[0m\u001b[0mfilename\u001b[0m\u001b[0;34m)\u001b[0m \u001b[0;31m# set a filename to the reader\u001b[0m\u001b[0;34m\u001b[0m\u001b[0m\n\u001b[1;32m      4\u001b[0m     \u001b[0mreader\u001b[0m\u001b[0;34m.\u001b[0m\u001b[0mUpdate\u001b[0m\u001b[0;34m(\u001b[0m\u001b[0;34m)\u001b[0m\u001b[0;34m\u001b[0m\u001b[0m\n\u001b[1;32m      5\u001b[0m     \u001b[0macq\u001b[0m \u001b[0;34m=\u001b[0m \u001b[0mreader\u001b[0m\u001b[0;34m.\u001b[0m\u001b[0mGetOutput\u001b[0m\u001b[0;34m(\u001b[0m\u001b[0;34m)\u001b[0m\u001b[0;34m\u001b[0m\u001b[0m\n",
      "\u001b[0;31mNameError\u001b[0m: global name 'btk' is not defined"
     ]
    }
   ],
   "source": [
    "data = get_positions(filename)"
   ]
  },
  {
   "cell_type": "code",
   "execution_count": 5,
   "metadata": {
    "collapsed": false
   },
   "outputs": [],
   "source": [
    "def get_domain_for_each_marker(data):\n",
    "  domains = {}\n",
    "  for key in data[0].keys():\n",
    "    min_values = [data[0][key][i] for i in range(0,3)]\n",
    "    max_values = [data[0][key][i] for i in range(0,3)]\n",
    "    for j in range(1, len(data)):\n",
    "      values = data[j][key]\n",
    "      for i in range(0,3):\n",
    "        if values[i] < min_values[i]:\n",
    "          min_values[i] = values[i]\n",
    "        if values[i] > max_values[i]:\n",
    "          max_values[i] = values[i]\n",
    "    domains[key] = [min_values, max_values]\n",
    "  return domains"
   ]
  },
  {
   "cell_type": "code",
   "execution_count": 6,
   "metadata": {
    "collapsed": false
   },
   "outputs": [
    {
     "ename": "NameError",
     "evalue": "name 'data' is not defined",
     "output_type": "error",
     "traceback": [
      "\u001b[0;31m---------------------------------------------------------------------------\u001b[0m",
      "\u001b[0;31mNameError\u001b[0m                                 Traceback (most recent call last)",
      "\u001b[0;32m<ipython-input-6-7fd5653ff0a1>\u001b[0m in \u001b[0;36m<module>\u001b[0;34m()\u001b[0m\n\u001b[0;32m----> 1\u001b[0;31m \u001b[0mdomains\u001b[0m \u001b[0;34m=\u001b[0m \u001b[0mget_domain_for_each_marker\u001b[0m\u001b[0;34m(\u001b[0m\u001b[0mdata\u001b[0m\u001b[0;34m)\u001b[0m\u001b[0;34m\u001b[0m\u001b[0m\n\u001b[0m",
      "\u001b[0;31mNameError\u001b[0m: name 'data' is not defined"
     ]
    }
   ],
   "source": [
    "domains = get_domain_for_each_marker(data)"
   ]
  },
  {
   "cell_type": "code",
   "execution_count": 7,
   "metadata": {
    "collapsed": false
   },
   "outputs": [],
   "source": [
    "def walk(_dir, pattern, method):\n",
    "    _dir = os.path.abspath(_dir)\n",
    "    for _file in [_file for _file in os.listdir(_dir) if not _file in [\".\", \"..\", \".svn\", \".git\"]]:\n",
    "        nfile = os.path.join(_dir, _file)\n",
    "        if pattern.search(nfile):\n",
    "            method(nfile)\n",
    "        if os.path.isdir(nfile):\n",
    "            walk(nfile, pattern, method)\n",
    "                 \n",
    "\n",
    "def get_domains_for_all_files(directory):\n",
    "    pattern = re.compile(r\".*RBOHand.*.trb$\")\n",
    "    files = []\n",
    "    walk(directory, pattern, files.append)\n",
    "    domains = [get_domain_for_each_marker(get_positions(filename)) for filename in files]\n",
    "    global_domains = {}\n",
    "    keys = domains[0].keys()\n",
    "    for key in keys:\n",
    "        domain = []\n",
    "        for d in domains:\n",
    "            minimum = d[key][0]\n",
    "            maximum = d[key][1]\n",
    "            if domain == []:\n",
    "                domain = [ [minimum[0], minimum[1], minimum[2]], [maximum[0], maximum[1], maximum[2]]]\n",
    "\n",
    "            d_min = [ domain[0][i] if minimum[i] > domain[0][i] else minimum[i] for i in range(0,3)]\n",
    "            d_max = [ domain[1][i] if maximum[i] < domain[1][i] else maximum[i] for i in range(0,3)]\n",
    "        global_domains[key] = [d_min, d_max]\n",
    "    return global_domains"
   ]
  },
  {
   "cell_type": "code",
   "execution_count": 8,
   "metadata": {
    "collapsed": false
   },
   "outputs": [
    {
     "ename": "OSError",
     "evalue": "[Errno 2] No such file or directory: '/home/somebody/projects/20141104-rbohand2'",
     "output_type": "error",
     "traceback": [
      "\u001b[0;31m---------------------------------------------------------------------------\u001b[0m",
      "\u001b[0;31mOSError\u001b[0m                                   Traceback (most recent call last)",
      "\u001b[0;32m<ipython-input-8-167d0d6c05e9>\u001b[0m in \u001b[0;36m<module>\u001b[0;34m()\u001b[0m\n\u001b[0;32m----> 1\u001b[0;31m \u001b[0mdomains\u001b[0m \u001b[0;34m=\u001b[0m \u001b[0mget_domains_for_all_files\u001b[0m\u001b[0;34m(\u001b[0m\u001b[0mparent\u001b[0m\u001b[0;34m)\u001b[0m\u001b[0;34m\u001b[0m\u001b[0m\n\u001b[0m",
      "\u001b[0;32m<ipython-input-7-47652ba50e69>\u001b[0m in \u001b[0;36mget_domains_for_all_files\u001b[0;34m(directory)\u001b[0m\n\u001b[1;32m     12\u001b[0m     \u001b[0mpattern\u001b[0m \u001b[0;34m=\u001b[0m \u001b[0mre\u001b[0m\u001b[0;34m.\u001b[0m\u001b[0mcompile\u001b[0m\u001b[0;34m(\u001b[0m\u001b[0;34mr\".*RBOHand.*.trb$\"\u001b[0m\u001b[0;34m)\u001b[0m\u001b[0;34m\u001b[0m\u001b[0m\n\u001b[1;32m     13\u001b[0m     \u001b[0mfiles\u001b[0m \u001b[0;34m=\u001b[0m \u001b[0;34m[\u001b[0m\u001b[0;34m]\u001b[0m\u001b[0;34m\u001b[0m\u001b[0m\n\u001b[0;32m---> 14\u001b[0;31m     \u001b[0mwalk\u001b[0m\u001b[0;34m(\u001b[0m\u001b[0mdirectory\u001b[0m\u001b[0;34m,\u001b[0m \u001b[0mpattern\u001b[0m\u001b[0;34m,\u001b[0m \u001b[0mfiles\u001b[0m\u001b[0;34m.\u001b[0m\u001b[0mappend\u001b[0m\u001b[0;34m)\u001b[0m\u001b[0;34m\u001b[0m\u001b[0m\n\u001b[0m\u001b[1;32m     15\u001b[0m     \u001b[0mdomains\u001b[0m \u001b[0;34m=\u001b[0m \u001b[0;34m[\u001b[0m\u001b[0mget_domain_for_each_marker\u001b[0m\u001b[0;34m(\u001b[0m\u001b[0mget_positions\u001b[0m\u001b[0;34m(\u001b[0m\u001b[0mfilename\u001b[0m\u001b[0;34m)\u001b[0m\u001b[0;34m)\u001b[0m \u001b[0;32mfor\u001b[0m \u001b[0mfilename\u001b[0m \u001b[0;32min\u001b[0m \u001b[0mfiles\u001b[0m\u001b[0;34m]\u001b[0m\u001b[0;34m\u001b[0m\u001b[0m\n\u001b[1;32m     16\u001b[0m     \u001b[0mglobal_domains\u001b[0m \u001b[0;34m=\u001b[0m \u001b[0;34m{\u001b[0m\u001b[0;34m}\u001b[0m\u001b[0;34m\u001b[0m\u001b[0m\n",
      "\u001b[0;32m<ipython-input-7-47652ba50e69>\u001b[0m in \u001b[0;36mwalk\u001b[0;34m(_dir, pattern, method)\u001b[0m\n\u001b[1;32m      1\u001b[0m \u001b[0;32mdef\u001b[0m \u001b[0mwalk\u001b[0m\u001b[0;34m(\u001b[0m\u001b[0m_dir\u001b[0m\u001b[0;34m,\u001b[0m \u001b[0mpattern\u001b[0m\u001b[0;34m,\u001b[0m \u001b[0mmethod\u001b[0m\u001b[0;34m)\u001b[0m\u001b[0;34m:\u001b[0m\u001b[0;34m\u001b[0m\u001b[0m\n\u001b[1;32m      2\u001b[0m     \u001b[0m_dir\u001b[0m \u001b[0;34m=\u001b[0m \u001b[0mos\u001b[0m\u001b[0;34m.\u001b[0m\u001b[0mpath\u001b[0m\u001b[0;34m.\u001b[0m\u001b[0mabspath\u001b[0m\u001b[0;34m(\u001b[0m\u001b[0m_dir\u001b[0m\u001b[0;34m)\u001b[0m\u001b[0;34m\u001b[0m\u001b[0m\n\u001b[0;32m----> 3\u001b[0;31m     \u001b[0;32mfor\u001b[0m \u001b[0m_file\u001b[0m \u001b[0;32min\u001b[0m \u001b[0;34m[\u001b[0m\u001b[0m_file\u001b[0m \u001b[0;32mfor\u001b[0m \u001b[0m_file\u001b[0m \u001b[0;32min\u001b[0m \u001b[0mos\u001b[0m\u001b[0;34m.\u001b[0m\u001b[0mlistdir\u001b[0m\u001b[0;34m(\u001b[0m\u001b[0m_dir\u001b[0m\u001b[0;34m)\u001b[0m \u001b[0;32mif\u001b[0m \u001b[0;32mnot\u001b[0m \u001b[0m_file\u001b[0m \u001b[0;32min\u001b[0m \u001b[0;34m[\u001b[0m\u001b[0;34m\".\"\u001b[0m\u001b[0;34m,\u001b[0m \u001b[0;34m\"..\"\u001b[0m\u001b[0;34m,\u001b[0m \u001b[0;34m\".svn\"\u001b[0m\u001b[0;34m,\u001b[0m \u001b[0;34m\".git\"\u001b[0m\u001b[0;34m]\u001b[0m\u001b[0;34m]\u001b[0m\u001b[0;34m:\u001b[0m\u001b[0;34m\u001b[0m\u001b[0m\n\u001b[0m\u001b[1;32m      4\u001b[0m         \u001b[0mnfile\u001b[0m \u001b[0;34m=\u001b[0m \u001b[0mos\u001b[0m\u001b[0;34m.\u001b[0m\u001b[0mpath\u001b[0m\u001b[0;34m.\u001b[0m\u001b[0mjoin\u001b[0m\u001b[0;34m(\u001b[0m\u001b[0m_dir\u001b[0m\u001b[0;34m,\u001b[0m \u001b[0m_file\u001b[0m\u001b[0;34m)\u001b[0m\u001b[0;34m\u001b[0m\u001b[0m\n\u001b[1;32m      5\u001b[0m         \u001b[0;32mif\u001b[0m \u001b[0mpattern\u001b[0m\u001b[0;34m.\u001b[0m\u001b[0msearch\u001b[0m\u001b[0;34m(\u001b[0m\u001b[0mnfile\u001b[0m\u001b[0;34m)\u001b[0m\u001b[0;34m:\u001b[0m\u001b[0;34m\u001b[0m\u001b[0m\n",
      "\u001b[0;31mOSError\u001b[0m: [Errno 2] No such file or directory: '/home/somebody/projects/20141104-rbohand2'"
     ]
    }
   ],
   "source": [
    "domains = get_domains_for_all_files(parent)"
   ]
  },
  {
   "cell_type": "code",
   "execution_count": 9,
   "metadata": {
    "collapsed": false
   },
   "outputs": [],
   "source": [
    "def scale_data_for_each_marker(data, domains):\n",
    "  scaled_data = {}\n",
    "  for key in domains.keys():\n",
    "    new_data = []\n",
    "    min_values = domains[key][0]\n",
    "    max_values = domains[key][1]\n",
    "    for j in range(0, len(data)):\n",
    "      values = data[j][key]\n",
    "      # if values[0] != nan:\n",
    "      if max([abs((max_values[i] - min_values[i])) for i in range(0,3)]) > 0.00001:\n",
    "        values = [(values[i] - min_values[i]) / (max_values[i] - min_values[i])\n",
    "              for i in range(0,3)]\n",
    "      new_data.append(values)\n",
    "    scaled_data[key] = new_data\n",
    "  return scaled_data"
   ]
  },
  {
   "cell_type": "code",
   "execution_count": 10,
   "metadata": {
    "collapsed": false
   },
   "outputs": [
    {
     "ename": "NameError",
     "evalue": "name 'data' is not defined",
     "output_type": "error",
     "traceback": [
      "\u001b[0;31m---------------------------------------------------------------------------\u001b[0m",
      "\u001b[0;31mNameError\u001b[0m                                 Traceback (most recent call last)",
      "\u001b[0;32m<ipython-input-10-28dcced8610f>\u001b[0m in \u001b[0;36m<module>\u001b[0;34m()\u001b[0m\n\u001b[0;32m----> 1\u001b[0;31m \u001b[0mscaled_data\u001b[0m \u001b[0;34m=\u001b[0m \u001b[0mscale_data_for_each_marker\u001b[0m\u001b[0;34m(\u001b[0m\u001b[0mdata\u001b[0m\u001b[0;34m,\u001b[0m \u001b[0mdomains\u001b[0m\u001b[0;34m)\u001b[0m\u001b[0;34m\u001b[0m\u001b[0m\n\u001b[0m",
      "\u001b[0;31mNameError\u001b[0m: name 'data' is not defined"
     ]
    }
   ],
   "source": [
    "scaled_data = scale_data_for_each_marker(data, domains)"
   ]
  },
  {
   "cell_type": "code",
   "execution_count": 11,
   "metadata": {
    "collapsed": false
   },
   "outputs": [],
   "source": [
    "def bin_value(v, bins):\n",
    "  return min(int(v * bins), bins-1)\n",
    "\n",
    "def bin_vector(v, bins):\n",
    "  return [min(int(v[i] * bins), bins-1) for i in range(0,3)]\n",
    "\n",
    "def bin_scaled_data_for_each_marker(data, bins):\n",
    "  new_data = {}\n",
    "  for key in data.keys():\n",
    "    new_data[key] = [bin_vector(v, bins) for v in data[key]]\n",
    "  return new_data"
   ]
  },
  {
   "cell_type": "code",
   "execution_count": 12,
   "metadata": {
    "collapsed": false
   },
   "outputs": [
    {
     "ename": "NameError",
     "evalue": "name 'scaled_data' is not defined",
     "output_type": "error",
     "traceback": [
      "\u001b[0;31m---------------------------------------------------------------------------\u001b[0m",
      "\u001b[0;31mNameError\u001b[0m                                 Traceback (most recent call last)",
      "\u001b[0;32m<ipython-input-12-74df8bc3dbb3>\u001b[0m in \u001b[0;36m<module>\u001b[0;34m()\u001b[0m\n\u001b[0;32m----> 1\u001b[0;31m \u001b[0mbinned_data\u001b[0m \u001b[0;34m=\u001b[0m \u001b[0mbin_scaled_data_for_each_marker\u001b[0m\u001b[0;34m(\u001b[0m\u001b[0mscaled_data\u001b[0m\u001b[0;34m,\u001b[0m \u001b[0;36m10\u001b[0m\u001b[0;34m)\u001b[0m\u001b[0;34m\u001b[0m\u001b[0m\n\u001b[0m",
      "\u001b[0;31mNameError\u001b[0m: name 'scaled_data' is not defined"
     ]
    }
   ],
   "source": [
    "binned_data = bin_scaled_data_for_each_marker(scaled_data, 10)"
   ]
  },
  {
   "cell_type": "code",
   "execution_count": 13,
   "metadata": {
    "collapsed": false
   },
   "outputs": [],
   "source": [
    "def combine_bin_vector(v, bins):\n",
    "    return sum([v[i] * pow(bins,i) for i in range(0, len(v))])\n",
    "\n",
    "def unique_valued_list(lst):\n",
    "    myset = set(lst)\n",
    "    return list(myset)\n",
    "\n",
    "def relabel_vector(lst):\n",
    "    mylst = unique_valued_list(lst)\n",
    "    return [mylst.index(v) for v in lst]\n",
    "\n",
    "def combine_bins_for_each_marker(data, bins):\n",
    "    new_data = {}\n",
    "    for key in data.keys():\n",
    "        new_data[key] = relabel_vector([combine_bin_vector(v, bins) for v in data[key]])\n",
    "    return new_data\n",
    "\n",
    "def combine_random_variables(lst_of_lsts, bins):\n",
    "    return relabel_vector([combine_bin_vector([v[i] for v in lst_of_lsts], bins) for i in range(0, len(lst_of_lsts[1]))])"
   ]
  },
  {
   "cell_type": "code",
   "execution_count": 14,
   "metadata": {
    "collapsed": false
   },
   "outputs": [
    {
     "data": {
      "text/plain": [
       "[0, 10, 18, 8, 16, 6, 14, 5, 13, 3, 12, 1, 11, 19, 9, 17, 7, 15, 2, 4, 10]"
      ]
     },
     "execution_count": 14,
     "metadata": {},
     "output_type": "execute_result"
    }
   ],
   "source": [
    "# test combine_random_variables\n",
    "list_1 = [0,1,2,3,4,5,6,7,8,9,0,1,2,3,4,5,6,7,8,9,1]\n",
    "list_2 = [0,1,2,3,4,5,6,7,8,9,1,2,3,4,5,6,7,8,9,0,1]\n",
    "list_3 = [0,1,2,3,4,5,6,7,8,9,2,3,4,5,6,7,8,9,0,1,1]\n",
    "\n",
    "lst = [list_1, list_2, list_3]\n",
    "\n",
    "combine_random_variables(lst, 10)"
   ]
  },
  {
   "cell_type": "code",
   "execution_count": 15,
   "metadata": {
    "collapsed": false
   },
   "outputs": [
    {
     "ename": "NameError",
     "evalue": "name 'binned_data' is not defined",
     "output_type": "error",
     "traceback": [
      "\u001b[0;31m---------------------------------------------------------------------------\u001b[0m",
      "\u001b[0;31mNameError\u001b[0m                                 Traceback (most recent call last)",
      "\u001b[0;32m<ipython-input-15-e62c1cfc5cc9>\u001b[0m in \u001b[0;36m<module>\u001b[0;34m()\u001b[0m\n\u001b[1;32m      1\u001b[0m \u001b[0;31m# creating unary data for 3D motion capturing data\u001b[0m\u001b[0;34m\u001b[0m\u001b[0;34m\u001b[0m\u001b[0m\n\u001b[0;32m----> 2\u001b[0;31m \u001b[0mcombined_binned_data\u001b[0m \u001b[0;34m=\u001b[0m \u001b[0mcombine_bins_for_each_marker\u001b[0m\u001b[0;34m(\u001b[0m\u001b[0mbinned_data\u001b[0m\u001b[0;34m,\u001b[0m \u001b[0;36m10\u001b[0m\u001b[0;34m)\u001b[0m\u001b[0;34m\u001b[0m\u001b[0m\n\u001b[0m",
      "\u001b[0;31mNameError\u001b[0m: name 'binned_data' is not defined"
     ]
    }
   ],
   "source": [
    "# creating unary data for 3D motion capturing data\n",
    "combined_binned_data = combine_bins_for_each_marker(binned_data, 10)"
   ]
  },
  {
   "cell_type": "code",
   "execution_count": 16,
   "metadata": {
    "collapsed": false
   },
   "outputs": [
    {
     "name": "stdout",
     "output_type": "stream",
     "text": [
      "46 37 2\n"
     ]
    }
   ],
   "source": [
    "print max(combined_binned_data[\"2 PIP\"]),\n",
    "print max(combined_binned_data[\"2 DIP\"]),\n",
    "print max(combined_binned_data[\"3 MCP\"])"
   ]
  },
  {
   "cell_type": "code",
   "execution_count": 17,
   "metadata": {
    "collapsed": false
   },
   "outputs": [],
   "source": [
    "def emperical_joint_distribution(w_prime, w, a):\n",
    "  p = numpy.zeros((max(w_prime)+1, max(w)+1, max(a)+1))\n",
    "\n",
    "  L = len(w_prime)\n",
    "  for index in range(0, L):\n",
    "    p[w_prime[index], w[index], a[index]] = p[w_prime[index], w[index], a[index]] + 1.0\n",
    "\n",
    "  for i in range(0, p.shape[0]):\n",
    "    for j in range(0, p.shape[1]):\n",
    "      for k in range(0, p.shape[2]):\n",
    "        p[i,j,k] = p[i,j,k] / float(L)\n",
    "\n",
    "  s = sum(sum(sum(p)))\n",
    "  p = p / s\n",
    "  return p"
   ]
  },
  {
   "cell_type": "code",
   "execution_count": 18,
   "metadata": {
    "collapsed": false
   },
   "outputs": [],
   "source": [
    "jd = emperical_joint_distribution(combined_binned_data[\"2 PIP\"],\n",
    "                                  combined_binned_data[\"2 DIP\"],\n",
    "                                  combined_binned_data[\"3 MCP\"])"
   ]
  },
  {
   "cell_type": "code",
   "execution_count": 19,
   "metadata": {
    "collapsed": false
   },
   "outputs": [],
   "source": [
    "def calc_p_w_prime_given_w(joint_distribution):\n",
    "    p_w_prime_w = joint_distribution.sum(axis=2)\n",
    "    p_w         = joint_distribution.sum(axis=(0,2))\n",
    "    for w_prime in range(0,joint_distribution.shape[0]):\n",
    "        for w in range(0, joint_distribution.shape[1]):\n",
    "            p_w_prime_w[w_prime, w] = p_w_prime_w[w_prime, w] / p_w[w]\n",
    "    return p_w_prime_w\n",
    "\n",
    "def calc_p_w_prime_given_a(joint_distribution):\n",
    "    p_w_prime_a = joint_distribution.sum(axis=1)\n",
    "    p_a         = joint_distribution.sum(axis=(0,1))\n",
    "    for w_prime in range(0,joint_distribution.shape[0]):\n",
    "        for a in range(0, joint_distribution.shape[2]):\n",
    "            if p_w_prime_a[w_prime, a] != 0.0 and p_a[a] != 0.0:\n",
    "                p_w_prime_a[w_prime, a] = p_w_prime_a[w_prime, a] / p_a[a]\n",
    "    return p_w_prime_a\n",
    "\n",
    "def calc_p_w_prime_given_w_a(joint_distribution):\n",
    "    p_w_a               = joint_distribution.sum(axis=0)\n",
    "    p_w_prime_given_w_a = numpy.zeros(joint_distribution.shape)\n",
    "    for w_prime in range(0, joint_distribution.shape[0]):\n",
    "        for w in range(0, joint_distribution.shape[1]):\n",
    "            for a in range(0, joint_distribution.shape[2]):\n",
    "                if joint_distribution[w_prime, w, a] != 0.0 and p_w_a[w,a] != 0.0:\n",
    "                    p_w_prime_given_w_a[w_prime, w, a] = joint_distribution[w_prime, w, a] / p_w_a[w,a]\n",
    "    return p_w_prime_given_w_a\n",
    "\n",
    "def calculate_concept_one(joint_distribution):\n",
    "    p_w_prime_given_w   = calc_p_w_prime_given_w(joint_distribution)\n",
    "    p_w_prime_given_w_a = calc_p_w_prime_given_w_a(joint_distribution)\n",
    "    r = 0\n",
    "    for w_prime in range(0, joint_distribution.shape[0]):\n",
    "        for w in range(0, joint_distribution.shape[1]):\n",
    "            for a in range(0, joint_distribution.shape[2]):\n",
    "                if joint_distribution[w_prime, w, a] != 0.0 and p_w_prime_given_w[w_prime, w] != 0.0 and p_w_prime_given_w_a[w_prime, w, a] != 0.0:\n",
    "                    r = joint_distribution[w_prime, w, a] * (math.log(p_w_prime_given_w_a[w_prime, w, a], 2) - math.log(p_w_prime_given_w[w_prime, w], 2))\n",
    "    return r\n",
    "\n",
    "def calculate_concept_two(joint_distribution):\n",
    "    p_w_prime_given_a   = calc_p_w_prime_given_a(joint_distribution)\n",
    "    p_w_prime_given_w_a = calc_p_w_prime_given_w_a(joint_distribution)\n",
    "    r = 0\n",
    "    for w_prime in range(0, joint_distribution.shape[0]):\n",
    "        for w in range(0, joint_distribution.shape[1]):\n",
    "            for a in range(0, joint_distribution.shape[2]):\n",
    "                if joint_distribution[w_prime, w, a] != 0.0 and p_w_prime_given_a[w_prime, a] != 0.0 and p_w_prime_given_w_a[w_prime, w, a] != 0.0:\n",
    "                    r = joint_distribution[w_prime, w, a] * (math.log(p_w_prime_given_w_a[w_prime, w, a], 2) - math.log(p_w_prime_given_a[w_prime, a], 2))\n",
    "    return r"
   ]
  },
  {
   "cell_type": "code",
   "execution_count": 20,
   "metadata": {
    "collapsed": false
   },
   "outputs": [
    {
     "name": "stdout",
     "output_type": "stream",
     "text": [
      "0.0\n",
      "0.0377068913866\n"
     ]
    }
   ],
   "source": [
    "print calculate_concept_one(jd)\n",
    "print calculate_concept_two(jd)"
   ]
  },
  {
   "cell_type": "code",
   "execution_count": 1,
   "metadata": {
    "collapsed": false
   },
   "outputs": [],
   "source": [
    "def calculate_bases(P):\n",
    "    \n",
    "    pass"
   ]
  },
  {
   "cell_type": "markdown",
   "metadata": {},
   "source": [
    "## Work on data"
   ]
  },
  {
   "cell_type": "code",
   "execution_count": 28,
   "metadata": {
    "collapsed": false
   },
   "outputs": [
    {
     "name": "stdout",
     "output_type": "stream",
     "text": [
      "reading all files and looking for their domains\n",
      "Only using the first three files for test reasons.\n",
      "reading file /home/somebody/projects/20141104-rbohand2/grasp1_11-RBOHand2_2.trb\n",
      "scaling data\n",
      "binning data\n",
      "combining data\n",
      "randomising action data\n",
      "calculate joint distribution\n",
      "using method: Two\n",
      "using method: One\n",
      "reading file /home/somebody/projects/20141104-rbohand2/grasp6_1-RBOHand2_2.trb\n",
      "scaling data\n",
      "binning data\n",
      "combining data\n",
      "calculate joint distribution\n",
      "using method: Two\n",
      "using method: One\n",
      "reading file /home/somebody/projects/20141104-rbohand2/grasp4_1-RBOHand2_2.trb\n",
      "scaling data\n",
      "binning data\n",
      "combining data\n",
      "calculate joint distribution\n",
      "using method: Two\n",
      "using method: One\n",
      "done.\n"
     ]
    }
   ],
   "source": [
    "def analyse_directory(parent, nr_of_bins, functions):\n",
    "    print \"reading all files and looking for their domains\"\n",
    "    domains     = get_domains_for_all_files(parent)\n",
    "    \n",
    "    binned_actions = None\n",
    "    \n",
    "    pattern = re.compile(r\".*RBOHand.*.trb$\")\n",
    "    files = []\n",
    "    walk(directory, pattern, files.append)\n",
    "    \n",
    "    print \"Only using the first three files for test reasons.\"\n",
    "    files = files[0:3]\n",
    "    \n",
    "    results = {}\n",
    "    \n",
    "    for f in files:\n",
    "        print \"reading file \" + f\n",
    "        data = get_positions(f)\n",
    "        print \"scaling data\"\n",
    "        scaled_data = scale_data_for_each_marker(data, domains)\n",
    "        print \"binning data\"\n",
    "        binned_data = bin_scaled_data_for_each_marker(scaled_data, nr_of_bins)\n",
    "        print \"combining data\"\n",
    "        combined_binned_data = combine_bins_for_each_marker(binned_data, nr_of_bins)\n",
    "        combined_binned_data = combine_random_variables([combined_binned_data[key] for key in combined_binned_data.keys()], nr_of_bins)\n",
    "        if binned_actions == None:\n",
    "            print \"randomising action data\"\n",
    "            binned_actions = [int(random() * nr_of_bins) for v in range(1,len(combined_binned_data))]\n",
    "        print \"calculate joint distribution\"\n",
    "        jd = emperical_joint_distribution(combined_binned_data[2:len(combined_binned_data)], combined_binned_data[1:len(combined_binned_data)-1], binned_actions)\n",
    "        \n",
    "        r = {}\n",
    "        for key in functions.keys():\n",
    "            print \"using method: \" + key\n",
    "            r[key] = functions[key](jd)\n",
    "        results[f] = r\n",
    "    print \"done.\"\n",
    "    return results\n",
    "    \n",
    "    \n",
    "directory = \"/home/somebody/projects/20141104-rbohand2/\"\n",
    "bins      = 100\n",
    "functions = {\"One\" : calculate_concept_one, \"Two\" : calculate_concept_two}\n",
    "\n",
    "r = analyse_directory(directory, bins, functions)"
   ]
  },
  {
   "cell_type": "code",
   "execution_count": 29,
   "metadata": {
    "collapsed": false
   },
   "outputs": [
    {
     "name": "stdout",
     "output_type": "stream",
     "text": [
      "{'/home/somebody/projects/20141104-rbohand2/grasp6_1-RBOHand2_2.trb': {'Two': 0.0011403385336578151, 'One': 1.9815981196678177e-05}, '/home/somebody/projects/20141104-rbohand2/grasp1_11-RBOHand2_2.trb': {'Two': 0.00082464399025326113, 'One': 1.2739750870461339e-05}, '/home/somebody/projects/20141104-rbohand2/grasp4_1-RBOHand2_2.trb': {'Two': 0.00093404006948320361, 'One': 1.6389868854094223e-05}}\n"
     ]
    }
   ],
   "source": [
    "print r"
   ]
  },
  {
   "cell_type": "code",
   "execution_count": 31,
   "metadata": {
    "collapsed": false
   },
   "outputs": [
    {
     "name": "stdout",
     "output_type": "stream",
     "text": [
      "/home/somebody/projects/20141104-rbohand2/grasp6_1-RBOHand2_2.trb\n",
      "method:  Two :  0.00114033853366\n",
      "method:  One :  1.98159811967e-05\n",
      "/home/somebody/projects/20141104-rbohand2/grasp1_11-RBOHand2_2.trb\n",
      "method:  Two :  0.000824643990253\n",
      "method:  One :  1.27397508705e-05\n",
      "/home/somebody/projects/20141104-rbohand2/grasp4_1-RBOHand2_2.trb\n",
      "method:  Two :  0.000934040069483\n",
      "method:  One :  1.63898688541e-05\n"
     ]
    }
   ],
   "source": [
    "for key in r.keys():\n",
    "    data = r[key]\n",
    "    print key\n",
    "    for k in r[key].keys():\n",
    "        print \"method: \",\n",
    "        print k,\n",
    "        print \": \",\n",
    "        print r[key][k]"
   ]
  },
  {
   "cell_type": "code",
   "execution_count": null,
   "metadata": {
    "collapsed": false
   },
   "outputs": [],
   "source": []
  }
 ],
 "metadata": {
  "kernelspec": {
   "display_name": "Python 2",
   "language": "python",
   "name": "python2"
  },
  "language_info": {
   "name": "julia",
   "version": "0.3.8"
  }
 },
 "nbformat": 4,
 "nbformat_minor": 0
}
