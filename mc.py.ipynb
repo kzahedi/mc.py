{
 "metadata": {
  "name": ""
 },
 "nbformat": 3,
 "nbformat_minor": 0,
 "worksheets": [
  {
   "cells": [
    {
     "cell_type": "code",
     "collapsed": false,
     "input": [
      "import numpy\n",
      "import btk\n",
      "import os\n",
      "import math"
     ],
     "language": "python",
     "metadata": {},
     "outputs": [],
     "prompt_number": 13
    },
    {
     "cell_type": "code",
     "collapsed": false,
     "input": [
      "filename = \"/home/somebody/projects/20141104-rbohand2/grasp1_21-RBOHand2_2.trb\""
     ],
     "language": "python",
     "metadata": {},
     "outputs": [],
     "prompt_number": 14
    },
    {
     "cell_type": "code",
     "collapsed": false,
     "input": [
      "def get_positions(filename):\n",
      "    reader = btk.btkAcquisitionFileReader() # build a btk reader object\n",
      "    reader.SetFilename(filename) # set a filename to the reader\n",
      "    reader.Update()\n",
      "    acq = reader.GetOutput()\n",
      "    \n",
      "    frame_max =  acq.GetPointFrameNumber() #get the number of frames\n",
      "\n",
      "    all_points = []\n",
      "    for j in range(0, frame_max):\n",
      "      points = {}\n",
      "      for i in range(acq.GetPointNumber()):\n",
      "        point = acq.GetPoint(i)\n",
      "        label = point.GetLabel()\n",
      "        values = point.GetValues() #returns a numpy array of the data, row=frame, col=coordinates\n",
      "        points[label] = values[j][:]\n",
      "        all_points.append(points)\n",
      "\n",
      "    return all_points"
     ],
     "language": "python",
     "metadata": {},
     "outputs": [],
     "prompt_number": 15
    },
    {
     "cell_type": "code",
     "collapsed": false,
     "input": [
      "data = get_positions(filename)"
     ],
     "language": "python",
     "metadata": {},
     "outputs": [],
     "prompt_number": 16
    },
    {
     "cell_type": "code",
     "collapsed": false,
     "input": [
      "def get_domain_for_each_marker(data):\n",
      "  domains = {}\n",
      "  for key in data[0].keys():\n",
      "    min_values = [data[0][key][i] for i in range(0,3)]\n",
      "    max_values = [data[0][key][i] for i in range(0,3)]\n",
      "    for j in range(1, len(data)):\n",
      "      values = data[j][key]\n",
      "      for i in range(0,3):\n",
      "        if values[i] < min_values[i]:\n",
      "          min_values[i] = values[i]\n",
      "        if values[i] > max_values[i]:\n",
      "          max_values[i] = values[i]\n",
      "    domains[key] = [min_values, max_values]\n",
      "  return domains"
     ],
     "language": "python",
     "metadata": {},
     "outputs": [],
     "prompt_number": 17
    },
    {
     "cell_type": "code",
     "collapsed": false,
     "input": [
      "domains = get_domain_for_each_marker(data)"
     ],
     "language": "python",
     "metadata": {},
     "outputs": [],
     "prompt_number": 18
    },
    {
     "cell_type": "code",
     "collapsed": false,
     "input": [
      "def scale_data_for_each_marker(data, domains):\n",
      "  scaled_data = {}\n",
      "  for key in domains.keys():\n",
      "    new_data = []\n",
      "    min_values = domains[key][0]\n",
      "    max_values = domains[key][1]\n",
      "    for j in range(0, len(data)):\n",
      "      values = data[j][key]\n",
      "      # if values[0] != nan:\n",
      "      if max([abs((max_values[i] - min_values[i])) for i in range(0,3)]) > 0.00001:\n",
      "        values = [(values[i] - min_values[i]) / (max_values[i] - min_values[i])\n",
      "              for i in range(0,3)]\n",
      "      new_data.append(values)\n",
      "    scaled_data[key] = new_data\n",
      "  return scaled_data\n"
     ],
     "language": "python",
     "metadata": {},
     "outputs": [],
     "prompt_number": 19
    },
    {
     "cell_type": "code",
     "collapsed": false,
     "input": [
      "scaled_data = scale_data_for_each_marker(data, domains)"
     ],
     "language": "python",
     "metadata": {},
     "outputs": [],
     "prompt_number": 20
    },
    {
     "cell_type": "code",
     "collapsed": false,
     "input": [
      "def bin_value(v, bins):\n",
      "  return min(int(v * bins), bins-1)\n",
      "\n",
      "def bin_vector(v, bins):\n",
      "  return [min(int(v[i] * bins), bins-1) for i in range(0,3)]\n",
      "\n",
      "def bin_scaled_data_for_each_marker(data, bins):\n",
      "  new_data = {}\n",
      "  for key in data.keys():\n",
      "    new_data[key] = [bin_vector(v, bins) for v in data[key]]\n",
      "  return new_data"
     ],
     "language": "python",
     "metadata": {},
     "outputs": [],
     "prompt_number": 21
    },
    {
     "cell_type": "code",
     "collapsed": false,
     "input": [
      "binned_data = bin_scaled_data_for_each_marker(scaled_data, 10)"
     ],
     "language": "python",
     "metadata": {},
     "outputs": [],
     "prompt_number": 22
    },
    {
     "cell_type": "code",
     "collapsed": false,
     "input": [
      "def combine_bin_vector(v, bins):\n",
      "  return sum([v[i] * pow(bins,i) for i in range(0, len(v))])\n",
      "\n",
      "def unique_valued_list(lst):\n",
      "  myset = set(lst)\n",
      "  return list(myset)\n",
      "\n",
      "def relabel_vector(lst):\n",
      "  mylst = unique_valued_list(lst)\n",
      "  return [mylst.index(v) for v in lst]\n",
      "\n",
      "def combine_bins_for_each_marker(data, bins):\n",
      "  new_data = {}\n",
      "  for key in data.keys():\n",
      "    new_data[key] = relabel_vector([combine_bin_vector(v, bins) for v in data[key]])\n",
      "  return new_data"
     ],
     "language": "python",
     "metadata": {},
     "outputs": [],
     "prompt_number": 23
    },
    {
     "cell_type": "code",
     "collapsed": false,
     "input": [
      "combined_binned_data = combine_bins_for_each_marker(binned_data, 10)"
     ],
     "language": "python",
     "metadata": {},
     "outputs": [],
     "prompt_number": 24
    },
    {
     "cell_type": "code",
     "collapsed": false,
     "input": [
      "print combined_binned_data.keys()\n",
      "\n",
      "print max(combined_binned_data[\"2 PIP\"]),\n",
      "print max(combined_binned_data[\"2 DIP\"]),\n",
      "print max(combined_binned_data[\"3 MCP\"])"
     ],
     "language": "python",
     "metadata": {},
     "outputs": [
      {
       "output_type": "stream",
       "stream": "stdout",
       "text": [
        "['1 PIP', '2 DIP', '3 MCP', '2 PIP', '5 MCP', '4 MCP', '1 DIP', '1 MCP', '5 DIP', '3 DIP', '4 PIP', '2 MCP', '3 PIP', '4 DIP', '5 PIP']\n",
        "66 43 1\n"
       ]
      }
     ],
     "prompt_number": 25
    },
    {
     "cell_type": "code",
     "collapsed": false,
     "input": [
      "def emperical_joint_distribution(w_prime, w, a):\n",
      "  p = numpy.zeros((max(w_prime)+1, max(w)+1, max(a)+1))\n",
      "\n",
      "  L = len(w_prime)\n",
      "  for index in range(0, L):\n",
      "    p[w_prime[index], w[index], a[index]] = p[w_prime[index], w[index], a[index]] + 1.0\n",
      "\n",
      "  for i in range(0, p.shape[0]):\n",
      "    for j in range(0, p.shape[1]):\n",
      "      for k in range(0, p.shape[2]):\n",
      "        p[i,j,k] = p[i,j,k] / float(L)\n",
      "\n",
      "  s = sum(sum(sum(p)))\n",
      "  p = p / s\n",
      "  return p"
     ],
     "language": "python",
     "metadata": {},
     "outputs": [],
     "prompt_number": 26
    },
    {
     "cell_type": "code",
     "collapsed": false,
     "input": [
      "jd = emperical_joint_distribution(combined_binned_data[\"2 PIP\"],\n",
      "                                  combined_binned_data[\"2 DIP\"],\n",
      "                                  combined_binned_data[\"3 MCP\"])"
     ],
     "language": "python",
     "metadata": {},
     "outputs": [],
     "prompt_number": 27
    },
    {
     "cell_type": "code",
     "collapsed": false,
     "input": [
      "def calc_p_w_prime_given_w(joint_distribution):\n",
      "    p_w_prime_w = joint_distribution.sum(axis=2)\n",
      "    p_w         = joint_distribution.sum(axis=(0,2))\n",
      "    for w_prime in range(0,joint_distribution.shape[0]):\n",
      "        for w in range(0, joint_distribution.shape[1]):\n",
      "            p_w_prime_w[w_prime, w] = p_w_prime_w[w_prime, w] / p_w[w]\n",
      "    return p_w_prime_w\n",
      "\n",
      "def calc_p_w_prime_given_a(joint_distribution):\n",
      "    p_w_prime_a = joint_distribution.sum(axis=1)\n",
      "    p_a         = joint_distribution.sum(axis=(0,1))\n",
      "    for w_prime in range(0,joint_distribution.shape[0]):\n",
      "        for a in range(0, joint_distribution.shape[2]):\n",
      "            p_w_prime_a[w_prime, a] = p_w_prime_a[w_prime, a] / p_a[a]\n",
      "    return p_w_prime_a\n",
      "\n",
      "def calc_p_w_prime_given_w_a(joint_distribution):\n",
      "    p_w_a               = joint_distribution.sum(axis=0)\n",
      "    p_w_prime_given_w_a = numpy.zeros(joint_distribution.shape)\n",
      "    for w_prime in range(0, joint_distribution.shape[0]):\n",
      "        for w in range(0, joint_distribution.shape[1]):\n",
      "            for a in range(0, joint_distribution.shape[2]):\n",
      "                p_w_prime_given_w_a[w_prime, w, a] = joint_distribution[w_prime, w, a] / p_w_a[w,a]\n",
      "    return p_w_prime_given_w_a\n",
      "\n",
      "def calculate_concept_one(joint_distribution):\n",
      "    p_w_prime_given_w   = calc_p_w_prime_given_w(joint_distribution)\n",
      "    p_w_prime_given_w_a = calc_p_w_prime_given_w_a(joint_distribution)\n",
      "    r = 0\n",
      "    for w_prime in range(0, joint_distribution.shape[0]):\n",
      "        for w in range(0, joint_distribution.shape[1]):\n",
      "            for a in range(0, joint_distribution.shape[2]):\n",
      "                if joint_distribution[w_prime, w, a] != 0.0 and p_w_prime_given_w[w_prime, w] != 0.0 and p_w_prime_given_w_a[w_prime, w, a] != 0.0:\n",
      "                    r = joint_distribution[w_prime, w, a] * (math.log(p_w_prime_given_w_a[w_prime, w, a], 2) - math.log(p_w_prime_given_w[w_prime, w], 2))\n",
      "    return r\n",
      "\n",
      "def calculate_concept_two(joint_distribution):\n",
      "    p_w_prime_given_a   = calc_p_w_prime_given_a(joint_distribution)\n",
      "    p_w_prime_given_w_a = calc_p_w_prime_given_w_a(joint_distribution)\n",
      "    r = 0\n",
      "    for w_prime in range(0, joint_distribution.shape[0]):\n",
      "        for w in range(0, joint_distribution.shape[1]):\n",
      "            for a in range(0, joint_distribution.shape[2]):\n",
      "                if joint_distribution[w_prime, w, a] != 0.0 and p_w_prime_given_a[w_prime, a] != 0.0 and p_w_prime_given_w_a[w_prime, w, a] != 0.0:\n",
      "                    r = joint_distribution[w_prime, w, a] * (math.log(p_w_prime_given_w_a[w_prime, w, a], 2) - math.log(p_w_prime_given_a[w_prime, a], 2))\n",
      "    return r"
     ],
     "language": "python",
     "metadata": {},
     "outputs": [],
     "prompt_number": 36
    },
    {
     "cell_type": "code",
     "collapsed": false,
     "input": [
      "print calculate_concept_one(jd)\n",
      "print calculate_concept_two(jd)"
     ],
     "language": "python",
     "metadata": {},
     "outputs": [
      {
       "output_type": "stream",
       "stream": "stdout",
       "text": [
        "0.0\n",
        "0.0239393776958\n"
       ]
      }
     ],
     "prompt_number": 38
    },
    {
     "cell_type": "code",
     "collapsed": false,
     "input": [],
     "language": "python",
     "metadata": {},
     "outputs": [],
     "prompt_number": 34
    },
    {
     "cell_type": "code",
     "collapsed": false,
     "input": [],
     "language": "python",
     "metadata": {},
     "outputs": []
    }
   ],
   "metadata": {}
  }
 ]
}